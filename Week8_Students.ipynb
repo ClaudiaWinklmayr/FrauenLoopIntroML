{
 "cells": [
  {
   "cell_type": "markdown",
   "metadata": {},
   "source": [
    "# Visualization\n",
    "\n",
    "this week we will use pandas and seaborn to look into different ways to visualize your machine learning project. In particular we well \n",
    "\n",
    "- visualize categorical and contnuous varaibles of the data set\n",
    "- visualize them machine learning methods we have learned so far\n",
    "- visualize the performace of our algorithm \n"
   ]
  },
  {
   "cell_type": "code",
   "execution_count": null,
   "metadata": {},
   "outputs": [],
   "source": [
    "import pandas as pd\n",
    "import numpy as np\n",
    "import seaborn as sns\n",
    "import matplotlib.pyplot as plt"
   ]
  },
  {
   "cell_type": "markdown",
   "metadata": {},
   "source": [
    "#### Let's get started with the (unprocessed) charity dataset"
   ]
  },
  {
   "cell_type": "code",
   "execution_count": null,
   "metadata": {},
   "outputs": [],
   "source": [
    "df = pd.read_csv(\"CharityData/census.csv\")\n",
    "df.head()"
   ]
  },
  {
   "cell_type": "markdown",
   "metadata": {},
   "source": [
    "#### Pie charts can be a simple way to illustrate the categorical vaiables in your dataset"
   ]
  },
  {
   "cell_type": "code",
   "execution_count": null,
   "metadata": {},
   "outputs": [],
   "source": [
    "series = pd.Series(3 * np.random.rand(4), index=[\"a\", \"b\", \"c\", \"d\"], name=\"series\")\n",
    "print(series)\n",
    "series.plot.pie(figsize=(6, 6))"
   ]
  },
  {
   "cell_type": "markdown",
   "metadata": {},
   "source": [
    "##### to use a pie chart on the charity data we first have to create a series"
   ]
  },
  {
   "cell_type": "code",
   "execution_count": null,
   "metadata": {},
   "outputs": [],
   "source": [
    "workclass = df.workclass.value_counts()\n",
    "workclass.plot.pie(figsize=(6, 6))"
   ]
  },
  {
   "cell_type": "markdown",
   "metadata": {},
   "source": [
    "##### there are differnet ways to change the color: use the colormap or colors argument\n",
    "- use a matplotlib colormap: https://matplotlib.org/stable/tutorials/colors/colormaps.html\n",
    "- use a seaborn colormap (called a palette): https://seaborn.pydata.org/tutorial/color_palettes.html\n",
    "- specify your own color list"
   ]
  },
  {
   "cell_type": "code",
   "execution_count": null,
   "metadata": {},
   "outputs": [],
   "source": [
    "plt.figure(figsize=(20, 6))\n",
    "\n",
    "plt.subplot(131)\n",
    "workclass.plot.pie( colormap='Paired')\n",
    "plt.title('Matplotlib: Paired', size=18)\n",
    "\n",
    "plt.subplot(132)\n",
    "col = sns.color_palette(\"Spectral\", n_colors=10)\n",
    "workclass.plot.pie(colors=col)\n",
    "plt.title('Seaborn: Spectral', size=18)\n",
    "\n",
    "plt.subplot(133)\n",
    "colors=['red', '#000000',(0.7, 0.6,0.4), '#666666', '#ffffff', 'blue', 'orange']\n",
    "workclass.plot.pie(colors=colors)\n",
    "plt.title('Handpicked', size=18)"
   ]
  },
  {
   "cell_type": "markdown",
   "metadata": {},
   "source": [
    "##### Use the parameters of df.plot to set properties of your plot\n",
    "https://pandas.pydata.org/pandas-docs/stable/reference/api/pandas.DataFrame.plot.html#pandas.DataFrame.plot"
   ]
  },
  {
   "cell_type": "code",
   "execution_count": null,
   "metadata": {},
   "outputs": [],
   "source": [
    "col = sns.color_palette(\"Spectral\", n_colors=10)\n",
    "workclass.plot.pie(figsize=(6, 6), colors=col, legend=True, autopct=\"%.2f\", fontsize=14)\n",
    "plt.legend()"
   ]
  },
  {
   "cell_type": "markdown",
   "metadata": {},
   "source": [
    "##### You can combine the pandas plot commands with "
   ]
  },
  {
   "cell_type": "code",
   "execution_count": null,
   "metadata": {},
   "outputs": [],
   "source": [
    "col = sns.color_palette(\"Spectral\", n_colors=10)\n",
    "workclass.plot.pie(figsize=(6, 6), colors=col, legend=True, autopct=\"%.2f\", fontsize=14, labeldistance=None, label='')\n",
    "plt.legend(bbox_to_anchor=(0.95, 0.6), loc=2, borderaxespad=0.,  fontsize=14, ncol=2)\n",
    "plt.title('Workclass', size=20)"
   ]
  },
  {
   "cell_type": "markdown",
   "metadata": {},
   "source": [
    "#### you can use df.groupby to make several piecharts "
   ]
  },
  {
   "cell_type": "code",
   "execution_count": null,
   "metadata": {},
   "outputs": [],
   "source": [
    "series_mf = df.groupby('sex').workclass.value_counts()\n",
    "print(series_mf)"
   ]
  },
  {
   "cell_type": "code",
   "execution_count": null,
   "metadata": {},
   "outputs": [],
   "source": [
    "series_mf = df.groupby('sex').workclass.value_counts().unstack(0)\n",
    "print(series_mf)"
   ]
  },
  {
   "cell_type": "code",
   "execution_count": null,
   "metadata": {},
   "outputs": [],
   "source": [
    "series_mf.plot.pie(subplots=True, legend=False, figsize=(12,4), cmap='Pastel1', label='')"
   ]
  },
  {
   "cell_type": "markdown",
   "metadata": {},
   "source": [
    "# But: \n",
    "although piecharts can look very pretty, it is not recommended to use them for datset visualization. Can you think of a reason?"
   ]
  },
  {
   "cell_type": "markdown",
   "metadata": {},
   "source": [
    "### A bar chart is just a pie chart, that doesn't look like a pie\n",
    "and we can produce it just the same way: "
   ]
  },
  {
   "cell_type": "code",
   "execution_count": null,
   "metadata": {
    "scrolled": true
   },
   "outputs": [],
   "source": [
    "df.workclass.value_counts().plot.bar()\n",
    "plt.xticks(size=16, rotation=-45)"
   ]
  },
  {
   "cell_type": "markdown",
   "metadata": {},
   "source": [
    "### For the next ten minutes do the following: \n",
    "- group the charity dataset by income\n",
    "- make a bar chart showing the eductaion level for both income classes\n",
    "- make sure your graph has clearly readable labels and a title\n",
    "- choose some nice colors\n",
    "- add a legend"
   ]
  },
  {
   "cell_type": "markdown",
   "metadata": {},
   "source": [
    "### For plotting continuous data we will use seaborns penguin dataset\n",
    "\n",
    "#### this is supposed to be the new Iris dataset: https://www.kaggle.com/parulpandey/penguin-dataset-the-new-iris"
   ]
  },
  {
   "cell_type": "code",
   "execution_count": null,
   "metadata": {},
   "outputs": [],
   "source": [
    "penguins = sns.load_dataset(\"penguins\")\n",
    "penguins.info()"
   ]
  },
  {
   "cell_type": "markdown",
   "metadata": {},
   "source": [
    "#### Let's start with a simple histogramm of the flipper length: "
   ]
  },
  {
   "cell_type": "code",
   "execution_count": null,
   "metadata": {},
   "outputs": [],
   "source": [
    "penguins.flipper_length_mm.hist()"
   ]
  },
  {
   "cell_type": "markdown",
   "metadata": {},
   "source": [
    "##### we can improve this plot by changing bins,  color and adding lables"
   ]
  },
  {
   "cell_type": "code",
   "execution_count": null,
   "metadata": {},
   "outputs": [],
   "source": [
    "penguins.flipper_length_mm.hist(bins =20, grid=0, color='purple', edgecolor='black', alpha=0.3)\n",
    "plt.xlabel(\"flipper length [cm]\", size=16)\n",
    "plt.ylabel(\"frequency\", size=16)"
   ]
  },
  {
   "cell_type": "markdown",
   "metadata": {},
   "source": [
    "#### we can also add an estimate of the probability distribution"
   ]
  },
  {
   "cell_type": "code",
   "execution_count": null,
   "metadata": {},
   "outputs": [],
   "source": [
    "penguins.flipper_length_mm.hist(bins =20, grid=0, color='purple', edgecolor='black', alpha=0.3)\n",
    "penguins.flipper_length_mm.plot.kde(linewidth=3, color='blue')\n",
    "plt.xlabel(\"flipper length [mm]\", size=16)\n",
    "plt.ylabel(\"frequency\", size=16)\n"
   ]
  },
  {
   "cell_type": "markdown",
   "metadata": {},
   "source": [
    "#### why does this not work?"
   ]
  },
  {
   "cell_type": "markdown",
   "metadata": {},
   "source": [
    "#### and just like with pies and bars we can make histograms for several groups: "
   ]
  },
  {
   "cell_type": "code",
   "execution_count": null,
   "metadata": {},
   "outputs": [],
   "source": [
    "pengs_by_spec = penguins.pivot(columns='species', values=\"flipper_length_mm\")"
   ]
  },
  {
   "cell_type": "markdown",
   "metadata": {},
   "source": [
    "#### why can't we use the same aproach as before?"
   ]
  },
  {
   "cell_type": "code",
   "execution_count": null,
   "metadata": {},
   "outputs": [],
   "source": [
    "pengs_by_spec.plot.hist(color=['magenta', 'purple', 'blue'], alpha=0.5)"
   ]
  },
  {
   "cell_type": "code",
   "execution_count": null,
   "metadata": {},
   "outputs": [],
   "source": [
    "pengs_by_spec.plot.hist(color=['magenta', 'purple', 'blue'], alpha=0.5, stacked=True)"
   ]
  },
  {
   "cell_type": "markdown",
   "metadata": {},
   "source": [
    "### For the next couple of minutes do the following: \n",
    "- use only female penguins and group them by island\n",
    "- make a histogram of the bodymasses\n",
    "- choose some good colors and alpha values, add lables, title and legend"
   ]
  },
  {
   "cell_type": "markdown",
   "metadata": {},
   "source": [
    "####  Can you think of some situations where we would not want to use a histogram?"
   ]
  },
  {
   "cell_type": "markdown",
   "metadata": {},
   "source": [
    "### Boxplots"
   ]
  },
  {
   "cell_type": "code",
   "execution_count": null,
   "metadata": {},
   "outputs": [],
   "source": [
    "pengs_by_spec.boxplot()"
   ]
  },
  {
   "cell_type": "markdown",
   "metadata": {},
   "source": [
    "#### you can customize your boxplot"
   ]
  },
  {
   "cell_type": "code",
   "execution_count": null,
   "metadata": {},
   "outputs": [],
   "source": [
    "color_dict = {\"boxes\": \"green\",\"whiskers\": \"blue\",\"medians\": \"magenta\", \"caps\": \"black\" }\n",
    "boxprops = dict(linestyle='--', linewidth=3, color='darkgoldenrod')"
   ]
  },
  {
   "cell_type": "code",
   "execution_count": null,
   "metadata": {
    "scrolled": true
   },
   "outputs": [],
   "source": [
    "pengs_by_spec.boxplot(color=color_dict, boxprops= boxprops, grid=False)"
   ]
  },
  {
   "cell_type": "markdown",
   "metadata": {},
   "source": [
    "##### but seaborn has a very pretty deafult boxplot function"
   ]
  },
  {
   "cell_type": "code",
   "execution_count": null,
   "metadata": {},
   "outputs": [],
   "source": [
    "sns.boxplot(x='species', y = 'flipper_length_mm', data=penguins)"
   ]
  },
  {
   "cell_type": "markdown",
   "metadata": {},
   "source": [
    "###### you can even add the datapoints to the boxplot"
   ]
  },
  {
   "cell_type": "code",
   "execution_count": null,
   "metadata": {},
   "outputs": [],
   "source": [
    "sns.boxplot(x='species', y = 'flipper_length_mm', data=penguins)\n",
    "sns.swarmplot(x='species', y = 'flipper_length_mm', data=penguins, color=\"grey\")"
   ]
  },
  {
   "cell_type": "markdown",
   "metadata": {},
   "source": [
    "### when should you use a boxplot vs a histogram?"
   ]
  },
  {
   "cell_type": "markdown",
   "metadata": {},
   "source": [
    "### The best of both worlds: Violin plots"
   ]
  },
  {
   "cell_type": "code",
   "execution_count": null,
   "metadata": {},
   "outputs": [],
   "source": [
    "sns.violinplot(x='species', y = 'flipper_length_mm', data=penguins)"
   ]
  },
  {
   "cell_type": "markdown",
   "metadata": {},
   "source": [
    "##### you can even add more varaibles"
   ]
  },
  {
   "cell_type": "code",
   "execution_count": null,
   "metadata": {},
   "outputs": [],
   "source": [
    "sns.violinplot(x='species', y = 'flipper_length_mm', hue='sex', data=penguins, split=True)"
   ]
  },
  {
   "cell_type": "markdown",
   "metadata": {},
   "source": [
    "#### Take the next couple of minutes to: \n",
    "- Display the age distribution in the charity dataset for men and women and both income classes\n",
    "- As always, choose good colors and make sure your plot is labelled"
   ]
  },
  {
   "cell_type": "markdown",
   "metadata": {},
   "source": [
    "## Scatter plots"
   ]
  },
  {
   "cell_type": "markdown",
   "metadata": {},
   "source": [
    "##### You have already used the basic scatter plot many times"
   ]
  },
  {
   "cell_type": "code",
   "execution_count": null,
   "metadata": {},
   "outputs": [],
   "source": [
    "plt.scatter(penguins['bill_length_mm'],penguins['flipper_length_mm'])"
   ]
  },
  {
   "cell_type": "markdown",
   "metadata": {},
   "source": [
    "#### pandas has it's own scatter function"
   ]
  },
  {
   "cell_type": "code",
   "execution_count": null,
   "metadata": {
    "scrolled": true
   },
   "outputs": [],
   "source": [
    "penguins.plot.scatter(x='bill_length_mm', y='flipper_length_mm')"
   ]
  },
  {
   "cell_type": "markdown",
   "metadata": {},
   "source": [
    "#### and so has seaborn\n",
    "..... in seaborn you can use categorical varaibles to specify color and size"
   ]
  },
  {
   "cell_type": "code",
   "execution_count": null,
   "metadata": {},
   "outputs": [],
   "source": [
    "plt.figure(figsize=(5,5))\n",
    "sns.scatterplot(data=penguins, x=\"bill_length_mm\", y=\"flipper_length_mm\", hue=\"sex\", size=\"island\", style='species', palette='Set2')\n",
    "plt.legend(bbox_to_anchor=(1.05, 1), loc=2, borderaxespad=0.)"
   ]
  },
  {
   "cell_type": "markdown",
   "metadata": {},
   "source": [
    "#### Seaborns jointplot is even more powerful: "
   ]
  },
  {
   "cell_type": "code",
   "execution_count": null,
   "metadata": {},
   "outputs": [],
   "source": [
    "sns.jointplot(data=penguins, x=\"bill_length_mm\", y=\"flipper_length_mm\", kind=\"reg\")"
   ]
  },
  {
   "cell_type": "markdown",
   "metadata": {},
   "source": [
    "### Take the next 10 minutes to check out the documentation on seaborns jointplot \n",
    "and create some interesting visulization of the relationship between bill length and flipper length: \n",
    "https://seaborn.pydata.org/generated/seaborn.jointplot.html"
   ]
  },
  {
   "cell_type": "markdown",
   "metadata": {},
   "source": [
    "## Scatter plots allow you to see a  relationship between different variables"
   ]
  },
  {
   "cell_type": "code",
   "execution_count": null,
   "metadata": {},
   "outputs": [],
   "source": [
    "from sklearn.linear_model import LinearRegression"
   ]
  },
  {
   "cell_type": "markdown",
   "metadata": {},
   "source": [
    "#### let's reproduce the joint plot regression line with sklearn"
   ]
  },
  {
   "cell_type": "code",
   "execution_count": null,
   "metadata": {},
   "outputs": [],
   "source": [
    "lin_reg = LinearRegression()"
   ]
  },
  {
   "cell_type": "code",
   "execution_count": null,
   "metadata": {},
   "outputs": [],
   "source": [
    "penguins = penguins.dropna()"
   ]
  },
  {
   "cell_type": "code",
   "execution_count": null,
   "metadata": {},
   "outputs": [],
   "source": [
    "lin_reg.fit(penguins.bill_length_mm.values.reshape(len(penguins), 1),\n",
    "            penguins.flipper_length_mm.values.reshape(len(penguins), 1))"
   ]
  },
  {
   "cell_type": "code",
   "execution_count": null,
   "metadata": {},
   "outputs": [],
   "source": [
    "plt.figure(figsize=(5,5))\n",
    "plt.scatter(penguins.bill_length_mm,penguins.flipper_length_mm)\n",
    "plt.xlabel('bill length [mm]', size=16)\n",
    "plt.ylabel('flipper length [mm]', size=16)"
   ]
  },
  {
   "cell_type": "markdown",
   "metadata": {},
   "source": [
    "#### now where do we get the line from?"
   ]
  },
  {
   "cell_type": "markdown",
   "metadata": {},
   "source": [
    "### Let's do the same thing for logistic regression"
   ]
  },
  {
   "cell_type": "code",
   "execution_count": null,
   "metadata": {},
   "outputs": [],
   "source": [
    "from sklearn.linear_model import LogisticRegression"
   ]
  },
  {
   "cell_type": "code",
   "execution_count": null,
   "metadata": {},
   "outputs": [],
   "source": [
    "pengs_gentoo = penguins[penguins.species == 'Gentoo']"
   ]
  },
  {
   "cell_type": "code",
   "execution_count": null,
   "metadata": {},
   "outputs": [],
   "source": [
    "sns.scatterplot(data=pengs_gentoo, x=\"bill_length_mm\", y=\"flipper_length_mm\", hue=\"sex\", palette='Set2')"
   ]
  },
  {
   "cell_type": "markdown",
   "metadata": {},
   "source": [
    "### Take the next ten minutes to: \n",
    "apply logistic regression to predict the sex of the penguin from it's bill length"
   ]
  },
  {
   "cell_type": "code",
   "execution_count": null,
   "metadata": {},
   "outputs": [],
   "source": [
    "log_reg = LogisticRegression()\n",
    "pengs_gentoo = pengs_gentoo.dropna()"
   ]
  },
  {
   "cell_type": "code",
   "execution_count": null,
   "metadata": {},
   "outputs": [],
   "source": []
  },
  {
   "cell_type": "markdown",
   "metadata": {},
   "source": [
    "#### the logistic function is defined as: \n",
    "## $$\\frac{1}{1+e^{-x}}$$"
   ]
  },
  {
   "cell_type": "code",
   "execution_count": null,
   "metadata": {},
   "outputs": [],
   "source": []
  },
  {
   "cell_type": "markdown",
   "metadata": {},
   "source": [
    "### Let's check how well our logistic regression works\n",
    "##### which measures are there to measure the performance of a  classification problem? And how could we illustrate them?"
   ]
  },
  {
   "cell_type": "markdown",
   "metadata": {},
   "source": [
    "## A new measure: the ROC Curve"
   ]
  },
  {
   "cell_type": "code",
   "execution_count": null,
   "metadata": {},
   "outputs": [],
   "source": [
    "from IPython.display import Image\n",
    "from IPython.display import display"
   ]
  },
  {
   "cell_type": "code",
   "execution_count": null,
   "metadata": {},
   "outputs": [],
   "source": [
    "im = Image('1280px-Roc-draft-xkcd-style.svg.png', width=800)\n",
    "display(im)\n",
    "print(\"this image is taken from: https://en.wikipedia.org/wiki/Receiver_operating_characteristic#/media/File:Roc-draft-xkcd-style.svg\")"
   ]
  },
  {
   "cell_type": "markdown",
   "metadata": {},
   "source": [
    "##### When we use logistic regression, we can either predict class labels or class probabilities"
   ]
  },
  {
   "cell_type": "code",
   "execution_count": null,
   "metadata": {},
   "outputs": [],
   "source": [
    "y = log_reg.predict_proba(pengs_gentoo.flipper_length_mm.values.reshape(len(pengs_gentoo), 1))\n",
    "x = pengs_gentoo.flipper_length_mm.values\n",
    "plt.scatter(x, y[:, 1])\n",
    "plt.xlabel('??', size=18)\n",
    "plt.ylabel('??', size=18)"
   ]
  },
  {
   "cell_type": "markdown",
   "metadata": {},
   "source": [
    "#### let's plot an ROC curve for our logistic regression model"
   ]
  },
  {
   "cell_type": "code",
   "execution_count": null,
   "metadata": {},
   "outputs": [],
   "source": [
    "from sklearn.metrics import roc_curve"
   ]
  },
  {
   "cell_type": "code",
   "execution_count": null,
   "metadata": {},
   "outputs": [],
   "source": []
  },
  {
   "cell_type": "markdown",
   "metadata": {},
   "source": [
    "### Decision Bounaries"
   ]
  },
  {
   "cell_type": "code",
   "execution_count": null,
   "metadata": {
    "scrolled": true
   },
   "outputs": [],
   "source": [
    "plt.figure(figsize=(5,5))\n",
    "sns.scatterplot(data=penguins, x=\"bill_length_mm\", y=\"flipper_length_mm\", hue=\"species\", palette='Set1')\n",
    "plt.legend(bbox_to_anchor=(1.05, 1), loc=2, borderaxespad=0.)"
   ]
  },
  {
   "cell_type": "markdown",
   "metadata": {},
   "source": [
    "### Take the next 10 minutes to: \n",
    "- apply K means clustering to the data (using k=3)\n",
    "- draw a catterplot with the colors indicating the found clusters, the style indicating the true clusters and big black x's showing the cluster centers"
   ]
  },
  {
   "cell_type": "code",
   "execution_count": null,
   "metadata": {},
   "outputs": [],
   "source": [
    "from sklearn.cluster import KMeans"
   ]
  },
  {
   "cell_type": "code",
   "execution_count": null,
   "metadata": {},
   "outputs": [],
   "source": [
    "km = KMeans(n_clusters=3)"
   ]
  },
  {
   "cell_type": "code",
   "execution_count": null,
   "metadata": {},
   "outputs": [],
   "source": [
    "class_lables = km.fit_predict(penguins[['bill_length_mm', 'flipper_length_mm']])"
   ]
  },
  {
   "cell_type": "code",
   "execution_count": null,
   "metadata": {},
   "outputs": [],
   "source": [
    "km.cluster_centers_.shape"
   ]
  },
  {
   "cell_type": "code",
   "execution_count": null,
   "metadata": {},
   "outputs": [],
   "source": [
    "plt.figure(figsize=(5,5))\n",
    "sns.scatterplot(data=penguins, x=\"bill_length_mm\", y=\"flipper_length_mm\", hue=\"species\", style= class_lables, palette='Set1')\n",
    "plt.scatter(km.cluster_centers_[:,0],km.cluster_centers_[:,1], marker='X', color='k', s=120)\n",
    "plt.legend(bbox_to_anchor=(1.05, 1), loc=2, borderaxespad=0.)\n",
    "plt.scatter([37], [220], color='black', s=200, marker=\"$?$\")"
   ]
  },
  {
   "cell_type": "code",
   "execution_count": null,
   "metadata": {},
   "outputs": [],
   "source": [
    "def plot_decision_boundary(data, feature_names, predictor, res=30):\n",
    "    x = data[feature_names[0]]\n",
    "    y = data[feature_names[1]]\n",
    "    \n",
    "    x_min=x.min()\n",
    "    x_max=x.max()    \n",
    "    y_min=y.min()\n",
    "    y_max=y.max()\n",
    "    \n",
    "    xx = np.linspace(x_min, x_max, res)\n",
    "    yy = np.linspace(y_min,y_max, res)\n",
    "    xv, yv = np.meshgrid(xx,yy)\n",
    "    mesh = np.vstack((xv.flatten(), yv.flatten())).T\n",
    "    pred = predictor.predict(mesh)\n",
    "    \n",
    "    cs = plt.contourf(xv,yv, pred.reshape(xv.shape), cmap=plt.cm.coolwarm)\n",
    "    \n",
    "    plt.colorbar()\n",
    "    plt.xlabel(feature_names[0], size=16)\n",
    "    plt.xlim(x_min-0.1*(x_max-x_min), x_max+0.1*(x_max-x_min))\n",
    "    plt.ylabel(feature_names[1], size=16)\n",
    "    plt.ylim(y_min-0.1*(y_max-y_min), y_max+0.1*(y_max-y_min))"
   ]
  },
  {
   "cell_type": "code",
   "execution_count": null,
   "metadata": {},
   "outputs": [],
   "source": [
    "from sklearn import preprocessing\n",
    "le = preprocessing.LabelEncoder()"
   ]
  },
  {
   "cell_type": "code",
   "execution_count": null,
   "metadata": {},
   "outputs": [],
   "source": [
    "le.fit(penguins[\"species\"])"
   ]
  },
  {
   "cell_type": "code",
   "execution_count": null,
   "metadata": {},
   "outputs": [],
   "source": [
    "plot_decision_boundary(penguins, ['bill_length_mm', 'flipper_length_mm'], km)\n",
    "plt.scatter(penguins['bill_length_mm'],penguins['flipper_length_mm'], c=le.transform(penguins[\"species\"]))"
   ]
  },
  {
   "cell_type": "markdown",
   "metadata": {},
   "source": []
  },
  {
   "cell_type": "code",
   "execution_count": null,
   "metadata": {},
   "outputs": [],
   "source": []
  },
  {
   "cell_type": "code",
   "execution_count": null,
   "metadata": {},
   "outputs": [],
   "source": [
    "data = dict(\n",
    "        type = 'choropleth',\n",
    "        locations = df_countries.Code,\n",
    "        z = df_countries['Count'],\n",
    "        text = df_countries['Country'],\n",
    "        colorbar = {'title' : 'Starbucks Stores - World Wide'},\n",
    "        zmax = 100,\n",
    "        zmin =0\n",
    "      )\n",
    "layout = dict(\n",
    "    title = 'Stores Count',\n",
    "    geo = dict(\n",
    "            showframe = False,\n",
    "            projection = {'type':'natural earth'}\n",
    "    )\n",
    ")\n",
    "choromap = go.Figure(data = [data],layout = layout)\n",
    "iplot(choromap)"
   ]
  }
 ],
 "metadata": {
  "kernelspec": {
   "display_name": "Python 3",
   "language": "python",
   "name": "python3"
  },
  "language_info": {
   "codemirror_mode": {
    "name": "ipython",
    "version": 3
   },
   "file_extension": ".py",
   "mimetype": "text/x-python",
   "name": "python",
   "nbconvert_exporter": "python",
   "pygments_lexer": "ipython3",
   "version": "3.7.6"
  }
 },
 "nbformat": 4,
 "nbformat_minor": 4
}
