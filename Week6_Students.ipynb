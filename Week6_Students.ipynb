{
 "cells": [
  {
   "cell_type": "code",
   "execution_count": null,
   "metadata": {},
   "outputs": [],
   "source": [
    "import numpy as np\n",
    "from time import time\n",
    "from IPython.display import Image\n",
    "from IPython.display import display\n",
    "import pandas as pd\n",
    "import matplotlib.pyplot as plt\n",
    "%matplotlib inline\n",
    "\n",
    "\n",
    "from sklearn.cluster import AgglomerativeClustering\n",
    "from sklearn.cluster import KMeans\n",
    "\n",
    "from sklearn.datasets import make_blobs\n",
    "\n",
    "from sklearn.metrics import f1_score\n",
    "from sklearn.metrics import accuracy_score\n",
    "from sklearn.metrics import confusion_matrix\n",
    "from sklearn.metrics import silhouette_samples"
   ]
  },
  {
   "cell_type": "markdown",
   "metadata": {},
   "source": [
    "## Vocabulary\n",
    "\n",
    "__Supervised Learning:__\n",
    "\n",
    "__Unsupervised Learning:__\n",
    "\n",
    "__Clustering:__\n",
    "\n",
    "__Centroid:__\n",
    "\n",
    "__Inertia:__\n",
    "\n",
    "__Silouette Score:__\n",
    "\n",
    "__Hierarchical Clustering:__\n",
    "\n",
    "__Dendogramm:__"
   ]
  },
  {
   "cell_type": "code",
   "execution_count": null,
   "metadata": {},
   "outputs": [],
   "source": [
    "x = Image(filename='figs/Clustering.PNG') \n",
    "display(x)\n",
    "print(\"This image is a screenshot from the video by Luis Serrano https://www.youtube.com/watch?v=QXOkPvFM6NU\")"
   ]
  },
  {
   "cell_type": "code",
   "execution_count": null,
   "metadata": {},
   "outputs": [],
   "source": [
    "x = Image(filename='figs/KMeans1.PNG') \n",
    "y = Image(filename='figs/KMeans2.PNG') \n",
    "z = Image(filename='figs/KMeans3.PNG') \n",
    "display(x, y, z)\n",
    "print(\"This image is a screenshot from the video by Luis Serrano https://www.youtube.com/watch?v=QXOkPvFM6NU\")"
   ]
  },
  {
   "cell_type": "markdown",
   "metadata": {},
   "source": [
    "### Let's cluster some toy data"
   ]
  },
  {
   "cell_type": "code",
   "execution_count": null,
   "metadata": {},
   "outputs": [],
   "source": [
    "centers = [(0,0), (0,1), (1,0), (1,1)]\n",
    "X, y = make_blobs(centers=centers, cluster_std=0.1)\n",
    "x_min = min(X[:, 0])\n",
    "x_max = max(X[:, 0])\n",
    "y_min = min(X[:, 1])\n",
    "y_max = max(X[:, 1])"
   ]
  },
  {
   "cell_type": "markdown",
   "metadata": {},
   "source": [
    "###### plot the toy data"
   ]
  },
  {
   "cell_type": "code",
   "execution_count": null,
   "metadata": {},
   "outputs": [],
   "source": [
    "plt.scatter(X[:, 0], X[:,1], c=y)\n",
    "plt.xlabel('$X_1$', size=16)\n",
    "plt.xlim(x_min-0.1*(x_max-x_min), x_max+0.1*(x_max-x_min))\n",
    "plt.ylabel('$X_2$', size=16)\n",
    "plt.ylim(y_min-0.1*(y_max-y_min), y_max+0.1*(y_max-y_min))\n",
    "plt.title(\"True Classes\", size=16)"
   ]
  },
  {
   "cell_type": "code",
   "execution_count": null,
   "metadata": {},
   "outputs": [],
   "source": [
    "k_means_clf = KMeans(n_clusters=4)\n",
    "k_means_clf.fit(X)"
   ]
  },
  {
   "cell_type": "code",
   "execution_count": null,
   "metadata": {},
   "outputs": [],
   "source": [
    "plt.scatter(X[:, 0], X[:,1], c = k_means_clf.labels_)\n",
    "plt.xlabel('$X_1$', size=16)\n",
    "plt.xlim(x_min-0.1*(x_max-x_min), x_max+0.1*(x_max-x_min))\n",
    "#plt.ylabel('$X_2$', size=16)\n",
    "plt.ylim(y_min-0.1*(y_max-y_min), y_max+0.1*(y_max-y_min))\n",
    "plt.title(\"Found Classes\",size=16)\n",
    "plt.show()\n"
   ]
  },
  {
   "cell_type": "markdown",
   "metadata": {},
   "source": [
    "##### Why are the colors different?"
   ]
  },
  {
   "cell_type": "markdown",
   "metadata": {},
   "source": [
    "#### Let's look at the the model properties: "
   ]
  },
  {
   "cell_type": "code",
   "execution_count": null,
   "metadata": {},
   "outputs": [],
   "source": [
    "Image(filename='figs/kmeans_properties.PNG')"
   ]
  },
  {
   "cell_type": "markdown",
   "metadata": {},
   "source": [
    "#### What does k_means_clf.predict() do??"
   ]
  },
  {
   "cell_type": "markdown",
   "metadata": {},
   "source": [
    "#### What does k_means_clf.score(X) do??"
   ]
  },
  {
   "cell_type": "markdown",
   "metadata": {},
   "source": [
    "### Elbow plot"
   ]
  },
  {
   "cell_type": "code",
   "execution_count": null,
   "metadata": {},
   "outputs": [],
   "source": [
    "inertia = []\n",
    "list_k = list(range(1, 20))\n",
    "\n",
    "for k in list_k:\n",
    "    km = KMeans(n_clusters=k)\n",
    "    km.fit(X)\n",
    "    inertia.append(km.inertia_)"
   ]
  },
  {
   "cell_type": "code",
   "execution_count": null,
   "metadata": {
    "scrolled": true
   },
   "outputs": [],
   "source": [
    "plt.figure(figsize=(8, 5))\n",
    "plt.plot(list_k, inertia, '-o')\n",
    "plt.xticks(list_k)\n",
    "plt.xlabel(r'Number of clusters', size=16)\n",
    "plt.ylabel('Cluster Inertia', size=16)"
   ]
  },
  {
   "cell_type": "markdown",
   "metadata": {},
   "source": [
    "### Silouette Analysis"
   ]
  },
  {
   "cell_type": "markdown",
   "metadata": {},
   "source": [
    "$i$ .... a datapoint\n",
    "\n",
    "$a(i)$......average distance $d(i,j)$ between $i$ and all other datapoints $j$ in the _same_ cluster\n",
    "\n",
    "$b(i)$......shortest distance $d(i,h)$ between $i$ and it's nearest neighbor $h$ from a different cluster\n",
    "\n",
    "# $s(i) = \\frac{b(i)-a(i)}{max\\{a(i),b(i)\\}}$\n",
    "\n",
    "# $s = mean(s(i))$"
   ]
  },
  {
   "cell_type": "code",
   "execution_count": null,
   "metadata": {},
   "outputs": [],
   "source": [
    "avg_scores = []\n",
    "K = 3\n",
    "km = KMeans(n_clusters=K)\n",
    "labels = km.fit_predict(X)\n",
    "#centroids = km.cluster_centers_\n",
    "\n",
    "silhouette_vals = silhouette_samples(X,labels)"
   ]
  },
  {
   "cell_type": "code",
   "execution_count": null,
   "metadata": {},
   "outputs": [],
   "source": [
    "result = {}\n",
    "for k in range(K): \n",
    "    idx = np.where(labels==k)[0]\n",
    "    sil_vals = silhouette_vals[idx]\n",
    "    result[k] = np.sort(sil_vals)"
   ]
  },
  {
   "cell_type": "code",
   "execution_count": null,
   "metadata": {},
   "outputs": [],
   "source": [
    "plt.figure(figsize=(5,5))\n",
    "y_bottom = 0\n",
    "y_top = 0\n",
    "y_ticks =[]\n",
    "for k in range(K): \n",
    "    y_top += len(result[k])\n",
    "    y_ticks.append(np.mean([y_bottom, y_top]))\n",
    "    plt.barh(range(y_bottom, y_top), result[k], edgecolor='none', height=1)\n",
    "    y_bottom = y_top\n",
    "plt.xlabel(\"Silouette coefficient\", size=14)\n",
    "plt.axvline(x=np.mean(silhouette_vals), linestyle='--', linewidth=3, color='k')    \n",
    "plt.yticks(y_ticks, [\"cluster \" +str(k) for k in range(K)], size=14)\n",
    "plt.title(\"{} Clusters \".format(K), size=18)"
   ]
  },
  {
   "cell_type": "markdown",
   "metadata": {},
   "source": [
    "#### we can use the silouette score to find the optimal number of clusters"
   ]
  },
  {
   "cell_type": "code",
   "execution_count": null,
   "metadata": {},
   "outputs": [],
   "source": [
    "silouette_score = []\n",
    "list_k = list(range(2,10))\n",
    "\n",
    "for k in list_k:\n",
    "    km = KMeans(n_clusters=k)\n",
    "    labels = km.fit_predict(X)\n",
    "    silhouette_vals = silhouette_samples(X,labels)\n",
    "    silouette_score.append(np.mean(silhouette_vals))"
   ]
  },
  {
   "cell_type": "code",
   "execution_count": null,
   "metadata": {},
   "outputs": [],
   "source": [
    "plt.figure(figsize=(8, 5))\n",
    "plt.plot(list_k, silouette_score, '-o')\n",
    "plt.xticks(list_k)\n",
    "plt.xlabel(r'Number of clusters', size=16)\n",
    "plt.ylabel('Silouette Score', size=16)"
   ]
  },
  {
   "cell_type": "markdown",
   "metadata": {},
   "source": [
    "### Let's try k-means on the Charity dataset"
   ]
  },
  {
   "cell_type": "code",
   "execution_count": null,
   "metadata": {},
   "outputs": [],
   "source": [
    "data_train = pd.read_csv(\"clean_charity_ml.csv\")"
   ]
  },
  {
   "cell_type": "markdown",
   "metadata": {},
   "source": [
    "##### first we need to reduce the dataset. Why?"
   ]
  },
  {
   "cell_type": "code",
   "execution_count": null,
   "metadata": {},
   "outputs": [],
   "source": [
    "X_train=data_train[[\"age\", \"education-num\", \"capital-gain\", \"capital-loss\", \"hours-per-week\"]]\n",
    "y_train=data_train[\"income\"]"
   ]
  },
  {
   "cell_type": "code",
   "execution_count": null,
   "metadata": {
    "scrolled": true
   },
   "outputs": [],
   "source": [
    "km_clf = KMeans(n_clusters=2)\n",
    "y_pred = km_clf.fit_predict(X_train)"
   ]
  },
  {
   "cell_type": "markdown",
   "metadata": {},
   "source": [
    "##### make two clusters and interpret the results"
   ]
  },
  {
   "cell_type": "code",
   "execution_count": null,
   "metadata": {
    "scrolled": true
   },
   "outputs": [],
   "source": [
    "km_clf = KMeans(n_clusters=2)\n",
    "y_pred = km_clf.fit_predict(X_train)"
   ]
  },
  {
   "cell_type": "code",
   "execution_count": null,
   "metadata": {},
   "outputs": [],
   "source": [
    "km_clf.cluster_centers_"
   ]
  },
  {
   "cell_type": "code",
   "execution_count": null,
   "metadata": {
    "scrolled": true
   },
   "outputs": [],
   "source": [
    "for c_idx, col in enumerate(X_train): \n",
    "    print(\"{:15}:{:.2f}\\t {:.2f}\".format(col, \n",
    "                               km_clf.cluster_centers_[0, c_idx],\n",
    "                               km_clf.cluster_centers_[1, c_idx]))"
   ]
  },
  {
   "cell_type": "code",
   "execution_count": null,
   "metadata": {
    "scrolled": true
   },
   "outputs": [],
   "source": [
    "accuracy_score(y_train, y_pred)"
   ]
  },
  {
   "cell_type": "code",
   "execution_count": null,
   "metadata": {
    "scrolled": true
   },
   "outputs": [],
   "source": [
    "tn, fp, fn, tp = confusion_matrix(y_train, y_pred).ravel()"
   ]
  },
  {
   "cell_type": "code",
   "execution_count": null,
   "metadata": {},
   "outputs": [],
   "source": [
    "#Percison = \n",
    "#Recall = "
   ]
  },
  {
   "cell_type": "markdown",
   "metadata": {},
   "source": [
    "### When does K-Means not work?"
   ]
  },
  {
   "cell_type": "markdown",
   "metadata": {},
   "source": [
    "#### K means relies on several strong assumptions: \n",
    "\n",
    "- that the clusters are circular\n",
    "- that the clusters have the same variance\n",
    "- that the clusters have the same size"
   ]
  },
  {
   "cell_type": "code",
   "execution_count": null,
   "metadata": {},
   "outputs": [],
   "source": [
    "random_state = 170\n",
    "n_samples = 1500\n",
    "\n",
    "#non_circular_data \n",
    "X, y = make_blobs(n_samples=n_samples, random_state=random_state)\n",
    "transformation = [[0.608, -0.636], [-0.4088, 0.8525]]\n",
    "X_ellipses = np.dot(X, transformation)\n",
    "\n",
    "# unequal blob sizes\n",
    "X_varied, y_varied = make_blobs(n_samples=n_samples,cluster_std=[1.0, 2.5, 0.5],random_state=random_state)\n",
    "\n",
    "# Unevenly sized blobs\n",
    "X_filtered = np.vstack((X[y == 0][:500], X[y == 1][:100], X[y == 2][:10]))\n",
    "y_filtered = np.zeros(610)\n",
    "y_filtered[500:] = 1\n",
    "y_filtered[600:] = 2"
   ]
  },
  {
   "cell_type": "code",
   "execution_count": null,
   "metadata": {},
   "outputs": [],
   "source": [
    "km_clf = KMeans(n_clusters=3, random_state=random_state)\n",
    "y_pred_ellipse = km_clf.fit_predict(X_ellipses)\n",
    "y_pred_uneq_var = km_clf.fit_predict(X_varied)\n",
    "y_pred_uneq_size = km_clf.fit_predict(X_filtered)"
   ]
  },
  {
   "cell_type": "code",
   "execution_count": null,
   "metadata": {
    "scrolled": true
   },
   "outputs": [],
   "source": [
    "plt.figure(figsize=(8, 8))\n",
    "\n",
    "plt.subplot(2,3,1)\n",
    "plt.scatter(X_ellipses[:, 0], X_ellipses[:, 1], c=y)\n",
    "plt.title(\"Anisotropicly Distributed Blobs\")\n",
    "\n",
    "plt.subplot(2,3,2)\n",
    "plt.scatter(X_varied[:, 0], X_varied[:, 1], c=y_varied)\n",
    "plt.title(\"Unequal Variance\")\n",
    "\n",
    "plt.subplot(2,3,3)\n",
    "plt.scatter(X_filtered[:, 0], X_filtered[:, 1], c=y_filtered)\n",
    "plt.title(\"Unevenly Sized Blobs\")\n",
    "\n",
    "\n",
    "plt.subplot(2,3,4)\n",
    "plt.scatter(X_ellipses[:, 0], X_ellipses[:, 1], c=y_pred_ellipse)\n",
    "\n",
    "plt.subplot(2,3,5)\n",
    "plt.scatter(X_varied[:, 0], X_varied[:, 1], c=y_pred_uneq_var)\n",
    "\n",
    "plt.subplot(2,3,6)\n",
    "plt.scatter(X_filtered[:, 0], X_filtered[:, 1], c=y_pred_uneq_size)\n"
   ]
  },
  {
   "cell_type": "markdown",
   "metadata": {},
   "source": [
    "# Hierarchical clustering"
   ]
  },
  {
   "cell_type": "code",
   "execution_count": null,
   "metadata": {
    "scrolled": true
   },
   "outputs": [],
   "source": [
    "x = Image(filename='figs/AggClust.PNG')\n",
    "display(x)\n",
    "print(\"image is from https://www.displayr.com/what-is-hierarchical-clustering/\")"
   ]
  },
  {
   "cell_type": "code",
   "execution_count": null,
   "metadata": {},
   "outputs": [],
   "source": [
    "t = 1.5 * np.pi * (1 + 3 * np.random.rand(1, n_samples))\n",
    "x1 =  np.cos(t)+ 0.1 *np.random.rand(1,n_samples)\n",
    "y1 = np.sin(t) + 0.1 *np.random.rand(1,n_samples)\n",
    "\n",
    "x2 =  0.5*np.cos(t)+ 0.1 *np.random.rand(1,n_samples)\n",
    "y2 = 0.5*np.sin(t) + 0.1 *np.random.rand(1,n_samples)\n",
    "\n",
    "x = np.hstack((x1,x2))\n",
    "y = np.hstack((y1,y2))\n",
    "X_circles = np.vstack((x,y)).T\n",
    "\n",
    "y_circles = np.zeros(2*n_samples)\n",
    "y_circles[:n_samples] = 1\n",
    "\n",
    "data = X_circles\n",
    "labels = y_circles\n",
    "N_clusters =2"
   ]
  },
  {
   "cell_type": "code",
   "execution_count": null,
   "metadata": {},
   "outputs": [],
   "source": [
    "km_clf = KMeans(n_clusters=N_clusters)\n",
    "y_pred_kMeans = km_clf.fit_predict(data)"
   ]
  },
  {
   "cell_type": "code",
   "execution_count": null,
   "metadata": {},
   "outputs": [],
   "source": [
    "ac_clf = AgglomerativeClustering(n_clusters=N_clusters, linkage='single')\n",
    "y_pred_Agg = ac_clf.fit_predict(data)"
   ]
  },
  {
   "cell_type": "code",
   "execution_count": null,
   "metadata": {
    "scrolled": true
   },
   "outputs": [],
   "source": [
    "plt.figure(figsize=(10, 5))\n",
    "\n",
    "plt.subplot(131)\n",
    "plt.scatter(data[:, 0], data[:, 1], c=labels)\n",
    "plt.title(\"True Labels\", size =16)\n",
    "\n",
    "plt.subplot(132)\n",
    "plt.scatter(data[:, 0], data[:, 1], c=y_pred_kMeans)\n",
    "plt.title(\"KMeans Labels\", size =16)\n",
    "\n",
    "plt.subplot(133)\n",
    "plt.scatter(data[:, 0], data[:, 1], c=y_pred_Agg)\n",
    "plt.title(\"AggClustering Labels\", size =16)\n",
    "plt.show()"
   ]
  },
  {
   "cell_type": "markdown",
   "metadata": {},
   "source": [
    "### Try agglomerative clustering on the charity dataset"
   ]
  },
  {
   "cell_type": "code",
   "execution_count": null,
   "metadata": {},
   "outputs": [],
   "source": [
    "data_train = pd.read_csv(\"CleanNotebooksForClass/FrauenLoopIntroML/clean_charity_ml.csv\")"
   ]
  },
  {
   "cell_type": "code",
   "execution_count": null,
   "metadata": {},
   "outputs": [],
   "source": [
    "X_train=data_train[[\"age\", \"education-num\", \"capital-gain\", \"capital-loss\", \"hours-per-week\"]]\n",
    "y_train=data_train[\"income\"]"
   ]
  },
  {
   "cell_type": "code",
   "execution_count": null,
   "metadata": {},
   "outputs": [],
   "source": [
    "model = AgglomerativeClustering(n_clusters=2)\n",
    "y_pred = model.fit_predict(X_train)"
   ]
  },
  {
   "cell_type": "code",
   "execution_count": null,
   "metadata": {},
   "outputs": [],
   "source": [
    "accuracy_score(y_pred, y_train)"
   ]
  },
  {
   "cell_type": "markdown",
   "metadata": {},
   "source": [
    "#### An illustration of Agglomerative Clustering"
   ]
  },
  {
   "cell_type": "code",
   "execution_count": null,
   "metadata": {},
   "outputs": [],
   "source": [
    "import scipy.cluster.hierarchy as shc"
   ]
  },
  {
   "cell_type": "code",
   "execution_count": null,
   "metadata": {},
   "outputs": [],
   "source": [
    "X_small = X_train.sample(100)"
   ]
  },
  {
   "cell_type": "code",
   "execution_count": null,
   "metadata": {},
   "outputs": [],
   "source": [
    "labels = y_train[X_small.index]"
   ]
  },
  {
   "cell_type": "code",
   "execution_count": null,
   "metadata": {
    "scrolled": true
   },
   "outputs": [],
   "source": [
    "plt.figure(figsize=(15, 10))  \n",
    "plt.title(\"Dendrogram of Charity Data\", size=16)  \n",
    "dend = shc.dendrogram(shc.linkage(X_small, method='ward'), labels=list(labels), p=3)\n",
    "plt.savefig('dendogram.png', bbox_inches='tight', dpi=300)"
   ]
  },
  {
   "cell_type": "markdown",
   "metadata": {},
   "source": [
    "### resources\n",
    "\n",
    "- A good overview of sklearns clustering algorithms: https://scikit-learn.org/stable/modules/clustering.html#k-means\n",
    "- When k-means breaks down https://scikit-learn.org/stable/auto_examples/cluster/plot_kmeans_assumptions.html#sphx-glr-auto-examples-cluster-plot-kmeans-assumptions-py\n",
    "- https://towardsdatascience.com/k-means-clustering-algorithm-applications-evaluation-methods-and-drawbacks-aa03e644b48a"
   ]
  },
  {
   "cell_type": "code",
   "execution_count": null,
   "metadata": {},
   "outputs": [],
   "source": []
  }
 ],
 "metadata": {
  "kernelspec": {
   "display_name": "Python 3",
   "language": "python",
   "name": "python3"
  },
  "language_info": {
   "codemirror_mode": {
    "name": "ipython",
    "version": 3
   },
   "file_extension": ".py",
   "mimetype": "text/x-python",
   "name": "python",
   "nbconvert_exporter": "python",
   "pygments_lexer": "ipython3",
   "version": "3.7.6"
  }
 },
 "nbformat": 4,
 "nbformat_minor": 4
}
