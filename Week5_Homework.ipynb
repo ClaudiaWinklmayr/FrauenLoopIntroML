{
 "cells": [
  {
   "cell_type": "code",
   "execution_count": null,
   "metadata": {},
   "outputs": [],
   "source": [
    "from sklearn.datasets import load_diabetes\n",
    "import pandas as pd\n",
    "import numpy as np\n",
    "import matplotlib.pyplot as plt\n",
    "%matplotlib inline"
   ]
  },
  {
   "cell_type": "markdown",
   "metadata": {},
   "source": [
    "#### Homework description\n",
    "\n",
    "Since in class we worked mainly with classification, we want you to try out ensemble methods for regression here.\n",
    "You will work with the Diabetes dataset from sklearn /https://scikit-learn.org/stable/datasets/toy_dataset.html#diabetes-dataset) and try out different regression techniques. \n",
    "The homework consists of two parts:\n",
    "\n",
    "__A__ Write your own ensemble method. You will need a funtion to initialize and train the ensemble (of varying size), a function for prediction and one for evaluation. You can use the function prompts below or write your own functions from scratch \n",
    "\n",
    "\n",
    "__B__ Look through sklearns ensemble methods(https://scikit-learn.org/stable/modules/classes.html#module-sklearn.ensemble),  choose one that is fit for regression and apply it to the dataset. If it's a method we didn't cover in the lecture, make sure you understand roughly how it works. "
   ]
  },
  {
   "cell_type": "markdown",
   "metadata": {},
   "source": [
    "#### Load data and print description"
   ]
  },
  {
   "cell_type": "code",
   "execution_count": null,
   "metadata": {},
   "outputs": [],
   "source": [
    "data = load_diabetes()\n",
    "print(data[\"DESCR\"])"
   ]
  },
  {
   "cell_type": "code",
   "execution_count": null,
   "metadata": {},
   "outputs": [],
   "source": [
    "features = pd.DataFrame(data['data'], columns=data[\"feature_names\"])\n",
    "target = pd.DataFrame(data['target'], columns=[\"disease_progression\"])"
   ]
  },
  {
   "cell_type": "markdown",
   "metadata": {},
   "source": [
    "# A "
   ]
  },
  {
   "cell_type": "markdown",
   "metadata": {},
   "source": [
    "#### before you start\n",
    "-- The dataset can be assumed to be clean, but always make sure you understand what the variables mean. Also get an idea of their distributions (histograms) and relationships (scatterplots). \n",
    "\n",
    "-- if you want you can use only a subset of features, but give a reason why you want to exclude certain features.\n",
    "\n",
    "--  promts are designed to make a relatively simple ensemble out of a combination of linar regressors and decison trees. Feel free to use whatever predictors you want and also write your own functions. But be prepared to explain them :)\n",
    "\n",
    "    --- in particular the current code has a lot of loops, to make it more readable, Feel ree to use np.array whenever appropriate\n",
    "\n",
    "-- make sure you keep a testset of the data to evaluate the performance of your ensemble"
   ]
  },
  {
   "cell_type": "code",
   "execution_count": null,
   "metadata": {},
   "outputs": [],
   "source": [
    "def get_subset_data(features, targets, sample_size):\n",
    "    \"\"\"This method takes the original dataset and produces a \n",
    "    subsample for training a single predictor in the ensemble\"\"\"\n",
    "    \n",
    "    # look into np.random.choice, np.random.randint for generating random samples\n",
    "    # make sure if you're smpling with or without replacement\n",
    "    \n",
    "    #sub_sample_featurs = \n",
    "    #sub_sample_targets = \n",
    "    pass\n",
    "    \n",
    "    return sub_sample_featurs, sub_sample_targets"
   ]
  },
  {
   "cell_type": "code",
   "execution_count": null,
   "metadata": {},
   "outputs": [],
   "source": [
    "def make_my_ensemble(n_decision_tree, n_linear_regression, features, targets, training_sample_size): \n",
    "    \"\"\"\"\"\"\n",
    "    \n",
    "    my_predictor_list = []\n",
    "    for n in n_decision_tree:\n",
    "        pass\n",
    "        #predictor = # some predictor, make sure what parameters to specify\n",
    "        #feature_sample, target_sample = get_subset_data(Features, Targets, training_sample_size)\n",
    "        #predictor.fit(feature_sample, target_sample)\n",
    "        #my_predictor_list.append(predictor)\n",
    "        \n",
    "    for n in n_linear_regression:\n",
    "        pass\n",
    "        #predictor = # some predictor, make sure what parameters to specify\n",
    "        #feature_sample, target_sample = get_subset_data((Features, Targets, training_sample_size)\n",
    "        #predictor.fit(feature_sample, target_sample)\n",
    "        #my_predictor_list.append(predictor)\n",
    "        \n",
    "    \n",
    "        \n",
    "    return my_predictor_list"
   ]
  },
  {
   "cell_type": "code",
   "execution_count": null,
   "metadata": {},
   "outputs": [],
   "source": [
    "def my_ensemble_predict(my_ensemble, data_point): \n",
    "    \"\"\"This function takes the list of your predictors and applies them to the test set\"\"\"\n",
    "    \n",
    "    prediction_list = np.zeros(len(my_ensemble))\n",
    "    \n",
    "    # apply each classifyer seperately\n",
    "    for pred in my_ensemble: \n",
    "        prediction_list.append(pred.predict(data_point))\n",
    "    \n",
    "    #average the predictions. Make sure if you want to use hard or soft voitng\n",
    "    prediction = np.mean(prediction_list)\n",
    "    \n",
    "    pass\n",
    "    \n",
    "    return prediction"
   ]
  },
  {
   "cell_type": "code",
   "execution_count": null,
   "metadata": {},
   "outputs": [],
   "source": [
    "def my_ensemble_score(my_ensemble, test_features, test_targets): \n",
    "    \"\"\"This function takes the list of your predictors and applies them to the test set\"\"\"\n",
    "    \n",
    "    estimated_targets = []\n",
    "    for feature in test_features: \n",
    "        prediction = my_ensemble_predict(my_ensemble, feature)\n",
    "        estimated_targets.append(prediction)\n",
    "    \n",
    "    #use a score from sklearn.metric\n",
    "    metric = some_scoring_function(test_targets, estimated_targets)\n",
    "    \n",
    "    pass\n",
    "    \n",
    "    return prediction"
   ]
  },
  {
   "cell_type": "code",
   "execution_count": null,
   "metadata": {},
   "outputs": [],
   "source": [
    "# split into train and test set\n",
    "# create ensemble\n",
    "# apply the ensemble on the test set \n",
    "# score the result\n"
   ]
  },
  {
   "cell_type": "markdown",
   "metadata": {},
   "source": [
    "# B"
   ]
  },
  {
   "cell_type": "markdown",
   "metadata": {},
   "source": [
    "-- Go to https://scikit-learn.org/stable/modules/classes.html#module-sklearn.ensemble, select an ensemble method for regression and apply it to the dataset\n",
    "\n",
    "-- score your prediction with at least MSE but find other metics if you wnat\n",
    "\n",
    "-- look at the relevant elemets of your estimators (e.g how many trees, how deep, etc), the feature importances, staged predition etc, and visulaize them"
   ]
  },
  {
   "cell_type": "code",
   "execution_count": null,
   "metadata": {},
   "outputs": [],
   "source": []
  }
 ],
 "metadata": {
  "kernelspec": {
   "display_name": "Python 3",
   "language": "python",
   "name": "python3"
  },
  "language_info": {
   "codemirror_mode": {
    "name": "ipython",
    "version": 3
   },
   "file_extension": ".py",
   "mimetype": "text/x-python",
   "name": "python",
   "nbconvert_exporter": "python",
   "pygments_lexer": "ipython3",
   "version": "3.7.6"
  }
 },
 "nbformat": 4,
 "nbformat_minor": 4
}
