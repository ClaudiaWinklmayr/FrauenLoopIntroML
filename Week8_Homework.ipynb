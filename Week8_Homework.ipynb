{
 "cells": [
  {
   "cell_type": "code",
   "execution_count": 2,
   "metadata": {},
   "outputs": [],
   "source": [
    "import pandas as pd\n",
    "import numpy as np\n",
    "import seaborn as sns\n",
    "import matplotlib.pyplot as plt\n",
    "\n",
    "from sklearn.ensemble import AdaBoostClassifier\n",
    "from sklearn.model_selection import train_test_split\n",
    "from sklearn.metrics import roc_curve\n",
    "from sklearn.metrics import confusion_matrix\n",
    "\n",
    "from sklearn.tree import export_graphviz"
   ]
  },
  {
   "cell_type": "code",
   "execution_count": null,
   "metadata": {},
   "outputs": [],
   "source": [
    "carity_original = pd.read_csv(\"census.csv\")\n",
    "carity_clean = pd.read_csv(\"clean_charity_ml.csv\")"
   ]
  },
  {
   "cell_type": "markdown",
   "metadata": {},
   "source": [
    "### A \n",
    "use the charity dataset (original or cleaned) and use the powers matplotlib, pandas and seaborn to make he most confusing plot you can think of!(loads of different variables, colors, markers, sizes.... be creative :)"
   ]
  },
  {
   "cell_type": "markdown",
   "metadata": {},
   "source": [
    "## B\n",
    "\n",
    "now a bit more serious...\n",
    "check out the kind =\"hex\" varsion of seaborns jointplot and illstrate the relationship between \"hours-per-week\" and \"education-num\"\n",
    "\n",
    "... if you don't get a good result at first try\n",
    "\n",
    "joint_kws=dict(gridsize=10)"
   ]
  },
  {
   "cell_type": "markdown",
   "metadata": {},
   "source": [
    "## C \n",
    "\n",
    "a little recap of week 5: Train an AdaBoost Classifier on the clean charity dataset and predict the income. Then illustrate the following: \n",
    "- the income distribution\n",
    "- a single tree from your random forrest\n",
    "- the accuracy improvement with each additional tree (if you don't remember, check out .staged_score\n",
    "- the importance of the different features for prediction\n",
    "- the confusion matrix\n",
    "- the ROC curve \n",
    "\n",
    "\n",
    ".... if possible try to make a nice overview plot that combines all these small subplots\n",
    ".... as always make sure you have meaningful and readable lables, legends if necessary, a title, visible colors etc. etc. "
   ]
  },
  {
   "cell_type": "code",
   "execution_count": null,
   "metadata": {},
   "outputs": [],
   "source": []
  }
 ],
 "metadata": {
  "kernelspec": {
   "display_name": "Python 3",
   "language": "python",
   "name": "python3"
  },
  "language_info": {
   "codemirror_mode": {
    "name": "ipython",
    "version": 3
   },
   "file_extension": ".py",
   "mimetype": "text/x-python",
   "name": "python",
   "nbconvert_exporter": "python",
   "pygments_lexer": "ipython3",
   "version": "3.7.6"
  }
 },
 "nbformat": 4,
 "nbformat_minor": 4
}
