{
 "cells": [
  {
   "cell_type": "code",
   "execution_count": 20,
   "metadata": {},
   "outputs": [],
   "source": [
    "from sklearn.datasets import make_blobs\n",
    "import pandas as pd\n",
    "import numpy as np\n",
    "from time import time\n",
    "import matplotlib.pyplot as plt\n",
    "%matplotlib inline\n",
    "\n",
    "from sklearn.cluster import AgglomerativeClustering\n",
    "from sklearn.cluster import KMeans"
   ]
  },
  {
   "cell_type": "markdown",
   "metadata": {},
   "source": [
    "### Homework for week 6: \n",
    "This week you can choose between two assignments (you are of course free to to both if you want). In assignment A you will program the k means algorithm from scratch and compare it with the sklearn implementation. I assignment B you will work on a new toy dataset, apply the clustering algorithms we discussed in class and figure out some ways of visualization"
   ]
  },
  {
   "cell_type": "markdown",
   "metadata": {},
   "source": [
    "# A: Write k-means from scratch"
   ]
  },
  {
   "cell_type": "markdown",
   "metadata": {},
   "source": [
    "Just like last week I provide you with some function stubs to code your own k-means. However, if you want to write your own implementation go a head and do it! In particular when it comes to centroid initialization thater are many ways to do it (and very few are wrong). Also there are many possible stopping criteria for k-means. The implementation here works with a fixed number of iterations, but you can find a different way of doing it. If you use the fixed number of iterations, check how chnaging it will affect speed and accuracy\n",
    "\n",
    "Finally test your algorithm on a toy dataset and visualize the results. Play around with the dataset, use more or less blobs, make them bigger and smaller.\n",
    "\n",
    "Finally calcualte how much time your algorithm takes to train and compare it to the sklearn implementation. "
   ]
  },
  {
   "cell_type": "code",
   "execution_count": null,
   "metadata": {},
   "outputs": [],
   "source": [
    "def initialize_centroids(data, k): \n",
    "    # this function takes the trainig data and the number k of clusters\n",
    "    # and returs a list of k centroids \n",
    "    \n",
    "    # a simple way to to that is to just select k datapoints of the training data\n",
    "    # look into np.random.choice\n",
    "    pass\n",
    "    return centroids"
   ]
  },
  {
   "cell_type": "code",
   "execution_count": null,
   "metadata": {},
   "outputs": [],
   "source": [
    "def get_cluster_assignments(data, centroids): \n",
    "    # this function takes the data and the centroids and finds the cluster assignments\n",
    "    # by calcualating how far each datapoint is from each centroid and assinging it to the nearest one \n",
    "    \n",
    "    # look into np.linalg.norm and np.argmin\n",
    "    pass\n",
    "\n",
    "    cluster_assignments = []\n",
    "    for datapoint in data: \n",
    "        distances = []\n",
    "        for centroid in centroidsids: \n",
    "            # calculate distance between datapoint and centroid)\n",
    "        #assignment = centroid with minimal distance to datapoint\n",
    "        #cluster_assignments.append(assignment)\n",
    "        \n",
    "        \n",
    "    return cluster_assignments"
   ]
  },
  {
   "cell_type": "code",
   "execution_count": null,
   "metadata": {},
   "outputs": [],
   "source": [
    "def update_centroids(data, cluster_assignments, k): \n",
    "    # this function takes the data, the cluster assignments and the number of clusters and calculates the neew centroids\n",
    "    pass\n",
    "    new_centroids = []\n",
    "    \n",
    "    for cluster in range k:\n",
    "        #centroid = average over all datapoints that are assigned to the cluster\n",
    "        # look into np.where\n",
    "        \n",
    "    return new_centroids"
   ]
  },
  {
   "cell_type": "code",
   "execution_count": null,
   "metadata": {},
   "outputs": [],
   "source": [
    "def k_means(data, k, iters=100):\n",
    "    # this is the full k-means function. it takes the data and the number of clusters and returns the cluster assignments\n",
    "    \n",
    "    centroids = initialize_centroids(data, k)\n",
    "    \n",
    "    for i in range(iters): \n",
    "        cluster_assignments = get_cluster_assignments(data, centroids)\n",
    "        centroids = update_centroids(data, cluster_assignments, centroids, k)\n",
    "    \n",
    "    return cluster_assignments, centroids"
   ]
  },
  {
   "cell_type": "markdown",
   "metadata": {},
   "source": [
    "### Test your algorithm with toy data:"
   ]
  },
  {
   "cell_type": "code",
   "execution_count": 5,
   "metadata": {},
   "outputs": [],
   "source": [
    "# create toy data\n",
    "centers = [(0,0), (0,1), (1,0), (1,1)]\n",
    "X, y = make_blobs(centers=centers, cluster_std=0.1)"
   ]
  },
  {
   "cell_type": "code",
   "execution_count": null,
   "metadata": {},
   "outputs": [],
   "source": [
    "# find the clusters with your own algorithm\n",
    "k = 4\n",
    "cluster_assignments , centroids = k_means(X, k)"
   ]
  },
  {
   "cell_type": "code",
   "execution_count": 4,
   "metadata": {
    "scrolled": true
   },
   "outputs": [
    {
     "data": {
      "text/plain": [
       "Text(0, 0.5, '$X_2$')"
      ]
     },
     "execution_count": 4,
     "metadata": {},
     "output_type": "execute_result"
    },
    {
     "data": {
      "image/png": "[encoded data removed]",
      "text/plain": [
       "<Figure size 432x288 with 1 Axes>"
      ]
     },
     "metadata": {
      "needs_background": "light"
     },
     "output_type": "display_data"
    }
   ],
   "source": [
    "plt.figure(figsize=(8,4))\n",
    "\n",
    "plt.subplot(121)\n",
    "plt.title(\"True Lables\", size=18)\n",
    "plt.scatter(X[:, 0], X[:,1], c=y)\n",
    "plt.xlabel('$X_1$', size=16)\n",
    "plt.ylabel('$X_2$', size=16)\n",
    "\n",
    "plt.subplot(122)\n",
    "plt.title(\"Your Lables\", size=18)\n",
    "plt.scatter(X[:, 0], X[:,1], c=cluster_assignments)\n",
    "plt.xlabel('$X_1$', size=16)\n",
    "plt.ylabel('$X_2$', size=16)"
   ]
  },
  {
   "cell_type": "markdown",
   "metadata": {},
   "source": [
    "#### Compare running times"
   ]
  },
  {
   "cell_type": "code",
   "execution_count": null,
   "metadata": {},
   "outputs": [],
   "source": [
    "start = time()\n",
    "cluster_lables, centroids, centroids_old = k_means(X, 4)\n",
    "stop = time()\n",
    "print(\"trainig time(handwritten)= {}\".format(np.round(stop-start, 4)))\n",
    "\n",
    "k_means_clf = KMeans(n_clusters=4)\n",
    "start = time()\n",
    "k_means_clf.fit(X)\n",
    "stop = time()\n",
    "print(\"trainig time (sklearn)= {}\".format(np.round(stop-start, 4)))"
   ]
  },
  {
   "cell_type": "markdown",
   "metadata": {},
   "source": [
    "# B: test some clustering algorithms on a new dataset\n",
    "\n",
    "Here you will work on the wine dataset which measures 13 numeric attributes of three different wines (from three different cultivars). For your homework you should do the following: \n",
    "\n",
    "- Inspect the dataset: make some scatter plots and histograms to get an idea about the data\n",
    "    - are the data on comparable scales or do they have to be normalized?\n",
    "    - are the classes equally distributed?\n",
    "- apply both K-means and Agglomerative Clustering and try the following: \n",
    "    - find a good number of clusters (ellbow plot)\n",
    "    - find out if the data is evenly distributed across clusters (sillouette plot)\n",
    "    - how well can the clustering algorithms identify the classes?\n",
    "    - visualize the clusters( scatterplots, dendogram etc...)\n",
    "    \n",
    "For more information about the dataset go to: https://archive.ics.uci.edu/ml/datasets/Wine"
   ]
  },
  {
   "cell_type": "code",
   "execution_count": 8,
   "metadata": {},
   "outputs": [],
   "source": [
    "from sklearn.datasets import load_wine"
   ]
  },
  {
   "cell_type": "code",
   "execution_count": 23,
   "metadata": {},
   "outputs": [
    {
     "name": "stdout",
     "output_type": "stream",
     "text": [
      ".. _wine_dataset:\n",
      "\n",
      "Wine recognition dataset\n",
      "------------------------\n",
      "\n",
      "**Data Set Characteristics:**\n",
      "\n",
      "    :Number of Instances: 178 (50 in each of three classes)\n",
      "    :Number of Attributes: 13 numeric, predictive attributes and the class\n",
      "    :Attribute Information:\n",
      " \t\t- Alcohol\n",
      " \t\t- Malic acid\n",
      " \t\t- Ash\n",
      "\t\t- Alcalinity of ash  \n",
      " \t\t- Magnesium\n",
      "\t\t- Total phenols\n",
      " \t\t- Flavanoids\n",
      " \t\t- Nonflavanoid phenols\n",
      " \t\t- Proanthocyanins\n",
      "\t\t- Color intensity\n",
      " \t\t- Hue\n",
      " \t\t- OD280/OD315 of diluted wines\n",
      " \t\t- Proline\n",
      "\n",
      "    - class:\n",
      "            - class_0\n",
      "            - class_1\n",
      "            - class_2\n",
      "\t\t\n",
      "    :Summary Statistics:\n",
      "    \n",
      "    ============================= ==== ===== ======= =====\n",
      "                                   Min   Max   Mean     SD\n",
      "    ============================= ==== ===== ======= =====\n",
      "    Alcohol:                      11.0  14.8    13.0   0.8\n",
      "    Malic Acid:                   0.74  5.80    2.34  1.12\n",
      "    Ash:                          1.36  3.23    2.36  0.27\n",
      "    Alcalinity of Ash:            10.6  30.0    19.5   3.3\n",
      "    Magnesium:                    70.0 162.0    99.7  14.3\n",
      "    Total Phenols:                0.98  3.88    2.29  0.63\n",
      "    Flavanoids:                   0.34  5.08    2.03  1.00\n",
      "    Nonflavanoid Phenols:         0.13  0.66    0.36  0.12\n",
      "    Proanthocyanins:              0.41  3.58    1.59  0.57\n",
      "    Colour Intensity:              1.3  13.0     5.1   2.3\n",
      "    Hue:                          0.48  1.71    0.96  0.23\n",
      "    OD280/OD315 of diluted wines: 1.27  4.00    2.61  0.71\n",
      "    Proline:                       278  1680     746   315\n",
      "    ============================= ==== ===== ======= =====\n",
      "\n",
      "    :Missing Attribute Values: None\n",
      "    :Class Distribution: class_0 (59), class_1 (71), class_2 (48)\n",
      "    :Creator: R.A. Fisher\n",
      "    :Donor: Michael Marshall (MARSHALL%PLU@io.arc.nasa.gov)\n",
      "    :Date: July, 1988\n",
      "\n",
      "This is a copy of UCI ML Wine recognition datasets.\n",
      "https://archive.ics.uci.edu/ml/machine-learning-databases/wine/wine.data\n",
      "\n",
      "The data is the results of a chemical analysis of wines grown in the same\n",
      "region in Italy by three different cultivators. There are thirteen different\n",
      "measurements taken for different constituents found in the three types of\n",
      "wine.\n",
      "\n",
      "Original Owners: \n",
      "\n",
      "Forina, M. et al, PARVUS - \n",
      "An Extendible Package for Data Exploration, Classification and Correlation. \n",
      "Institute of Pharmaceutical and Food Analysis and Technologies,\n",
      "Via Brigata Salerno, 16147 Genoa, Italy.\n",
      "\n",
      "Citation:\n",
      "\n",
      "Lichman, M. (2013). UCI Machine Learning Repository\n",
      "[https://archive.ics.uci.edu/ml]. Irvine, CA: University of California,\n",
      "School of Information and Computer Science. \n",
      "\n",
      ".. topic:: References\n",
      "\n",
      "  (1) S. Aeberhard, D. Coomans and O. de Vel, \n",
      "  Comparison of Classifiers in High Dimensional Settings, \n",
      "  Tech. Rep. no. 92-02, (1992), Dept. of Computer Science and Dept. of  \n",
      "  Mathematics and Statistics, James Cook University of North Queensland. \n",
      "  (Also submitted to Technometrics). \n",
      "\n",
      "  The data was used with many others for comparing various \n",
      "  classifiers. The classes are separable, though only RDA \n",
      "  has achieved 100% correct classification. \n",
      "  (RDA : 100%, QDA 99.4%, LDA 98.9%, 1NN 96.1% (z-transformed data)) \n",
      "  (All results using the leave-one-out technique) \n",
      "\n",
      "  (2) S. Aeberhard, D. Coomans and O. de Vel, \n",
      "  \"THE CLASSIFICATION PERFORMANCE OF RDA\" \n",
      "  Tech. Rep. no. 92-01, (1992), Dept. of Computer Science and Dept. of \n",
      "  Mathematics and Statistics, James Cook University of North Queensland. \n",
      "  (Also submitted to Journal of Chemometrics).\n",
      "\n"
     ]
    }
   ],
   "source": [
    "data = load_wine()\n",
    "print(data[\"DESCR\"])"
   ]
  },
  {
   "cell_type": "code",
   "execution_count": 24,
   "metadata": {},
   "outputs": [],
   "source": [
    "X = data['data']\n",
    "y = data['target']\n",
    "names = data['target_names']"
   ]
  },
  {
   "cell_type": "markdown",
   "metadata": {},
   "source": [
    "#### a good way of visualizing clusters is by passing the cluster labels as the c argument in a scatter plot"
   ]
  },
  {
   "cell_type": "code",
   "execution_count": 25,
   "metadata": {},
   "outputs": [],
   "source": [
    "km_clf = KMeans(n_clusters=3, random_state=2)\n",
    "found_clusters =km_clf.fit_predict(X)"
   ]
  },
  {
   "cell_type": "code",
   "execution_count": 26,
   "metadata": {},
   "outputs": [
    {
     "data": {
      "text/plain": [
       "<matplotlib.collections.PathCollection at 0x22a5142ba88>"
      ]
     },
     "execution_count": 26,
     "metadata": {},
     "output_type": "execute_result"
    },
    {
     "data": {
      "image/png": "[encoded data removed]",
      "text/plain": [
       "<Figure size 432x288 with 1 Axes>"
      ]
     },
     "metadata": {
      "needs_background": "light"
     },
     "output_type": "display_data"
    }
   ],
   "source": [
    "plt.scatter(X[:,7], X[:, 5], c= found_clusters)"
   ]
  },
  {
   "cell_type": "markdown",
   "metadata": {},
   "source": [
    "but this is not a very informative plot:)"
   ]
  }
 ],
 "metadata": {
  "kernelspec": {
   "display_name": "Python 3",
   "language": "python",
   "name": "python3"
  },
  "language_info": {
   "codemirror_mode": {
    "name": "ipython",
    "version": 3
   },
   "file_extension": ".py",
   "mimetype": "text/x-python",
   "name": "python",
   "nbconvert_exporter": "python",
   "pygments_lexer": "ipython3",
   "version": "3.7.6"
  }
 },
 "nbformat": 4,
 "nbformat_minor": 4
}
